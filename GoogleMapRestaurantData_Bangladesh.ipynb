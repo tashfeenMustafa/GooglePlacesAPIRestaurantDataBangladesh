{
  "nbformat": 4,
  "nbformat_minor": 0,
  "metadata": {
    "colab": {
      "name": "GoogleMapRestaurantData_Bangladesh.ipynb",
      "provenance": [],
      "collapsed_sections": []
    },
    "kernelspec": {
      "name": "python3",
      "display_name": "Python 3"
    },
    "language_info": {
      "name": "python"
    }
  },
  "cells": [
    {
      "cell_type": "code",
      "source": [
        "pip install googlemaps"
      ],
      "metadata": {
        "id": "gxFfzH42DGjz"
      },
      "execution_count": null,
      "outputs": []
    },
    {
      "cell_type": "code",
      "source": [
        "pip install prettyprint"
      ],
      "metadata": {
        "id": "oQKA86gqDIvN"
      },
      "execution_count": null,
      "outputs": []
    },
    {
      "cell_type": "code",
      "execution_count": null,
      "metadata": {
        "id": "RWSJpsyKqHjH"
      },
      "outputs": [],
      "source": [
        "from google.colab import drive\n",
        "drive.mount('/content/drive')"
      ]
    },
    {
      "cell_type": "code",
      "source": [
        "import os"
      ],
      "metadata": {
        "id": "B2poUnJTF8_7"
      },
      "execution_count": 60,
      "outputs": []
    },
    {
      "cell_type": "code",
      "source": [
        "os.mkdir('/content/drive/MyDrive/restaurant_data_bangladesh_csv')"
      ],
      "metadata": {
        "id": "aIRb-qKUJkpN"
      },
      "execution_count": 47,
      "outputs": []
    },
    {
      "cell_type": "code",
      "source": [
        "os.chdir('/content/drive/MyDrive/restaurant_data_bangladesh_csv')"
      ],
      "metadata": {
        "id": "AtnECQn1Gl21"
      },
      "execution_count": 49,
      "outputs": []
    },
    {
      "cell_type": "code",
      "source": [
        "import csv"
      ],
      "metadata": {
        "id": "mvLchDDrHVL4"
      },
      "execution_count": 51,
      "outputs": []
    },
    {
      "cell_type": "code",
      "source": [
        "def initialize_csv(file_name):\n",
        "  f = open(file_name, 'w')\n",
        "  writer = csv.DictWriter(\n",
        "      f, fieldnames=['name', 'latitude', 'longitude', 'rating', 'number of reviews', 'affluence'])\n",
        "  writer.writeheader()\n",
        "  f.close()"
      ],
      "metadata": {
        "id": "RwvTYke1GrwD"
      },
      "execution_count": 78,
      "outputs": []
    },
    {
      "cell_type": "code",
      "source": [
        "def append_to_csv(file_name, fields):\n",
        "  with open(file_name, 'a') as f:\n",
        "    writer = csv.writer(f)\n",
        "    writer.writerow(fields)"
      ],
      "metadata": {
        "id": "FIjs-Js3I3dA"
      },
      "execution_count": 53,
      "outputs": []
    },
    {
      "cell_type": "code",
      "source": [
        "# initializing csv\n",
        "file_name = 'restaurants.csv'\n",
        "initialize_csv(file_name)"
      ],
      "metadata": {
        "id": "rXbvDoJnIbYX"
      },
      "execution_count": 92,
      "outputs": []
    },
    {
      "cell_type": "code",
      "source": [
        "def send_data_to_csv(restaurants, file_name):\n",
        "  for result in restaurants['results']:\n",
        "    # extracting relevant data\n",
        "    name = result['name']\n",
        "    latitude = result['geometry']['location']['lat']\n",
        "    longitude = result['geometry']['location']['lng']\n",
        "    \n",
        "    # check if each of the relevant key exists in the data\n",
        "    rating = None \n",
        "    if 'rating' in result.keys():\n",
        "      rating = result['rating']\n",
        "    else:\n",
        "      rating = '-'\n",
        "\n",
        "    review_count = None\n",
        "    if 'user_ratings_total' in result.keys():\n",
        "      review_count = result['user_ratings_total']\n",
        "    else: \n",
        "      review_count = 0\n",
        "    \n",
        "    price_level = None\n",
        "    if 'price_level' in result.keys():\n",
        "      price_level = '$' * result['price_level']\n",
        "    else:\n",
        "      price_level = '-'\n",
        "\n",
        "    # writing data to csv file\n",
        "    fields = [name, latitude, longitude, rating, review_count, price_level]\n",
        "    append_to_csv(file_name, fields) "
      ],
      "metadata": {
        "id": "zo_-OZVZMKz0"
      },
      "execution_count": 90,
      "outputs": []
    },
    {
      "cell_type": "code",
      "execution_count": 93,
      "metadata": {
        "id": "Sd23TUc9DAs1"
      },
      "outputs": [],
      "source": [
        "import googlemaps\n",
        "import time\n",
        "\n",
        "# defining API Key\n",
        "API_KEY = 'APIKEY'",
        "\n",
        "google_map_api = googlemaps.Client(key=API_KEY)\n",
        "\n",
        "# Using the latitude and longitude of Dhaka/Bangladesh and\n",
        "# a radius of 50000m which is the maximum google places api will allow\n",
        "restaurants = google_map_api.places_nearby(location='23.8118, 90.4134', radius=50000, type='restaurant')\n",
        "\n",
        "send_data_to_csv(restaurants, file_name)\n",
        "\n",
        "# wait for 3 seconds\n",
        "time.sleep(3)\n",
        "\n",
        "while 'next_page_token' in restaurants.keys():\n",
        "  # get the next page of results\n",
        "  restaurants = google_map_api.places_nearby(page_token=restaurants['next_page_token'])\n",
        "\n",
        "  send_data_to_csv(restaurants, file_name)\n",
        "\n",
        "  #wait 3 seconds\n",
        "  time.sleep(3)"
      ]
    },
    {
      "cell_type": "code",
      "source": [
        ""
      ],
      "metadata": {
        "id": "uOZl7bqZDs_c"
      },
      "execution_count": null,
      "outputs": []
    }
  ]
}
